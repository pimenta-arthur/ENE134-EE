{
 "cells": [
  {
   "cell_type": "markdown",
   "metadata": {},
   "source": [
    "# Planejamento da Expansão da Trasnmissão"
   ]
  },
  {
   "cell_type": "markdown",
   "metadata": {},
   "source": [
    "## Exercício\n",
    "Determine a expansão ótima da transmissão de energia elétrica via Enumeração Exaustiva para os seguintes casos:\n",
    "\n",
    "a) Atendimento total da demanda prevista (corte de carga nulo) <br>\n",
    "b) Corte de carga de no máximo 20MW"
   ]
  },
  {
   "cell_type": "code",
   "execution_count": 1,
   "metadata": {},
   "outputs": [],
   "source": [
    "import numpy as np\n",
    "from scipy.optimize import linprog\n",
    "from math import pi, inf"
   ]
  },
  {
   "cell_type": "code",
   "execution_count": 2,
   "metadata": {},
   "outputs": [
    {
     "name": "stdout",
     "output_type": "stream",
     "text": [
      "Caso 1\n",
      "PE12: 0, PE_13: 0, PE_23: 0\n",
      "Valor ótimo: 18.0, \n",
      "X: [ 0.02        0.06        0.         -3.10159265 -3.14159265 -3.14159265]\n",
      "\n",
      "Caso 2\n",
      "PE12: 0, PE_13: 0, PE_23: 1\n",
      "Valor ótimo: 8.00000000000001, \n",
      "X: [ 0.04        0.02        0.02       -2.98159265 -3.14159265 -3.06159265]\n",
      "\n",
      "Caso 3\n",
      "PE12: 0, PE_13: 1, PE_23: 0\n",
      "Valor ótimo: 18.0, \n",
      "X: [ 0.12        0.06        0.         -0.2        -3.14159265 -0.22      ]\n",
      "\n",
      "Caso 4\n",
      "PE12: 0, PE_13: 1, PE_23: 1\n",
      "Valor ótimo: 6.000000000000005, \n",
      "X: [ 0.12  0.02  0.   -0.12 -0.26 -0.18]\n",
      "\n",
      "Caso 5\n",
      "PE12: 1, PE_13: 0, PE_23: 0\n",
      "Valor ótimo: 7.50000000000004, \n",
      "X: [ 0.         0.025      0.        -0.11      -0.2150105 -0.15     ]\n",
      "\n",
      "Caso 6\n",
      "PE12: 1, PE_13: 0, PE_23: 1\n",
      "Valor ótimo: 1.7494749474947908, \n",
      "X: [ 0.          0.          0.01749475 -0.1250105  -0.230021   -0.180021  ]\n",
      "\n",
      "Caso 7\n",
      "PE12: 1, PE_13: 1, PE_23: 0\n",
      "Valor ótimo: 7.500000000000039, \n",
      "X: [ 0.055       0.025       0.         -3.03658215 -3.14159265 -3.05658215]\n",
      "\n",
      "Caso 8\n",
      "PE12: 1, PE_13: 1, PE_23: 1\n",
      "Valor ótimo: -3.552713678800501e-15, \n",
      "X: [ 0.08        0.          0.         -3.04158765 -3.14159265 -3.08825599]\n",
      "\n"
     ]
    }
   ],
   "source": [
    "# Variáveis\n",
    "PB = 1000\n",
    "B_13 = 0.5\n",
    "B_12 = 0.3333\n",
    "B_23 = 0.5\n",
    "\n",
    "# Parâmetros \n",
    "c = np.array([0, 300, 100, 0, 0, 0])\n",
    "b = np.array([35, 35, 40, 40, 40, 40, 40, 40])/PB\n",
    "b_eq = np.array([0, 60, 20])/PB\n",
    "upper_bounds = (120/PB, 60/PB, 20/PB, pi, pi, pi)\n",
    "lower_bounds = (0, 0, 0, -pi, -pi, -pi)\n",
    "\n",
    "# Cálculo do resultado para cada possibilidade binária das variáveis PE_12, PE_13 e PE_23\n",
    "results = {}\n",
    "for i in range(2**3):\n",
    "    PE_list = list('{0:{fill}3b}'.format(i, fill='0'))\n",
    "    PE_12 = int(PE_list[0])\n",
    "    PE_13 = int(PE_list[1])\n",
    "    PE_23 = int(PE_list[2])\n",
    "    \n",
    "    print(f'Caso {i+1}')\n",
    "    print(f'PE12: {PE_12}, PE_13: {PE_13}, PE_23: {PE_23}')\n",
    "    \n",
    "    A_14 = -PE_12*B_12-PE_12*B_13-B_13\n",
    "    A_15 = PE_12*B_12\n",
    "    A_16 = PE_13*B_13+B_13\n",
    "    A_24 = PE_12*B_12\n",
    "    A_25 = -PE_12*B_12-PE_23*B_23\n",
    "    A_26 = PE_23*B_23\n",
    "    A_34 = PE_13*B_13+B_13\n",
    "    A_35 = PE_23*B_23\n",
    "    A_36 = -PE_13*B_13-B_13-PE_23*B_23\n",
    "    \n",
    "    A_eq = np.array([\n",
    "        [1, 0, 0, A_14, A_15, A_16], \n",
    "        [0, 1, 0, A_24, A_25, A_26],\n",
    "        [0, 0, 1, A_34, A_35, A_36]])\n",
    "    \n",
    "    A = np.array([\n",
    "        [0 ,0, 0, PE_12*B_12, -PE_12*B_12, 0],\n",
    "        [0 ,0, 0, -PE_12*B_12, PE_12*B_12, 0],\n",
    "        [0 ,0, 0, PE_13*B_13, 0, -PE_13*B_13],\n",
    "        [0 ,0, 0, -PE_13*B_13, 0, PE_13*B_13],\n",
    "        [0 ,0, 0, 0, PE_23*B_23, -PE_23*B_23],\n",
    "        [0 ,0, 0, 0, -PE_23*B_23, PE_23*B_23],\n",
    "        [0 ,0, 0, B_13, 0, -B_13], \n",
    "        [0 ,0, 0, -B_13, 0, B_13]])\n",
    "        \n",
    "    res = linprog(c, A_ub=A, b_ub=b, A_eq=A_eq, b_eq=b_eq, bounds=list(zip(lower_bounds, upper_bounds)))\n",
    "    results[i+1] = [res.fun, PE_list]\n",
    "    \n",
    "    print(f'Valor ótimo: {res.fun}, \\nX: {res.x}')\n",
    "    print('')"
   ]
  },
  {
   "cell_type": "markdown",
   "metadata": {},
   "source": [
    "## Resultados"
   ]
  },
  {
   "cell_type": "code",
   "execution_count": 3,
   "metadata": {},
   "outputs": [
    {
     "name": "stdout",
     "output_type": "stream",
     "text": [
      "Resultado ótimo - corte de carga nulo:\n",
      "Caso 8\n",
      "PE12: 1, PE_13: 1, PE_23: 1\n",
      "Valor ótimo: -3.552713678800501e-15\n"
     ]
    }
   ],
   "source": [
    "print('Resultado ótimo - corte de carga nulo:')\n",
    "\n",
    "key_min = min(results, key = lambda x: results.get(x)[0])\n",
    "print(f'Caso {key_min}')\n",
    "\n",
    "PE_list = results[key_min][1]\n",
    "PE_12 = int(PE_list[0])\n",
    "PE_13 = int(PE_list[1])\n",
    "PE_23 = int(PE_list[2])\n",
    "print(f'PE12: {PE_12}, PE_13: {PE_13}, PE_23: {PE_23}')\n",
    "\n",
    "print(f'Valor ótimo: {results[key_min][0]}')"
   ]
  },
  {
   "cell_type": "code",
   "execution_count": null,
   "metadata": {},
   "outputs": [],
   "source": []
  }
 ],
 "metadata": {
  "kernelspec": {
   "display_name": "Python 3",
   "language": "python",
   "name": "python3"
  },
  "language_info": {
   "codemirror_mode": {
    "name": "ipython",
    "version": 3
   },
   "file_extension": ".py",
   "mimetype": "text/x-python",
   "name": "python",
   "nbconvert_exporter": "python",
   "pygments_lexer": "ipython3",
   "version": "3.7.0"
  }
 },
 "nbformat": 4,
 "nbformat_minor": 2
}
