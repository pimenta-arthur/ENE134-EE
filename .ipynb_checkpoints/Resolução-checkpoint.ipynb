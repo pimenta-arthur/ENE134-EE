{
 "cells": [
  {
   "cell_type": "markdown",
   "metadata": {},
   "source": [
    "# Planejamento da Expansão da Trasnmissão"
   ]
  },
  {
   "cell_type": "markdown",
   "metadata": {},
   "source": [
    "## Exercício\n",
    "Determine a espansão ótima da transmissão de energia elétrica via Enumeração Exaustiva"
   ]
  },
  {
   "cell_type": "code",
   "execution_count": 7,
   "metadata": {},
   "outputs": [],
   "source": [
    "import numpy as np\n",
    "from scipy.optimize import linprog\n",
    "from math import pi"
   ]
  },
  {
   "cell_type": "code",
   "execution_count": 58,
   "metadata": {},
   "outputs": [
    {
     "name": "stdout",
     "output_type": "stream",
     "text": [
      "['0', '0', '0']\n",
      "['0', '0', '1']\n",
      "['0', '1', '0']\n",
      "['0', '1', '1']\n",
      "['1', '0', '0']\n",
      "['1', '0', '1']\n",
      "['1', '1', '0']\n",
      "['1', '1', '1']\n"
     ]
    }
   ],
   "source": [
    "PB = 1000\n",
    "\n",
    "c = [0, 300, 100, 0, 0, 0]\n",
    "b = np.array([35, 35, 40, 40, 40, 40, 40, 40])/PB\n",
    "b_eq = np.array([0, 60, 20])/PB\n",
    "upper_bounds = (120/PB, 60/PB, 20/PB, pi, pi, pi)\n",
    "lower_bounds = (0, 0, 0, -pi, -pi, -pi)\n",
    "\n",
    "results = []\n",
    "for i in range(2**3):\n",
    "    PE_list = list('{0:{fill}3b}'.format(i, fill='0'))\n",
    "    PE12 = PE_list[0]\n",
    "    PE13 = PE_list[1]\n",
    "    PE23 = PE_list[2]\n",
    "    \n",
    "    print(PE_list)\n",
    "    \n",
    "    A = [[-3, 1], [1, 2]]\n",
    "    A_eq = [[1,2], [0,1]]\n",
    "    \n",
    "#     res = linprog(c, A_ub=A, b_ub=b, A_eq=A_eq, b_eq=b_eq, bounds=[upper_bounds, lower_bounds])\n",
    "#     results.append(res)"
   ]
  }
 ],
 "metadata": {
  "kernelspec": {
   "display_name": "Python 3",
   "language": "python",
   "name": "python3"
  },
  "language_info": {
   "codemirror_mode": {
    "name": "ipython",
    "version": 3
   },
   "file_extension": ".py",
   "mimetype": "text/x-python",
   "name": "python",
   "nbconvert_exporter": "python",
   "pygments_lexer": "ipython3",
   "version": "3.7.0"
  }
 },
 "nbformat": 4,
 "nbformat_minor": 2
}
